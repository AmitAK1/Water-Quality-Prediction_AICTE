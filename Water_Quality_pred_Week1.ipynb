{
 "cells": [
  {
   "cell_type": "code",
   "execution_count": 2,
   "id": "bc33be85-4d64-4b9b-b192-0ca1aea80381",
   "metadata": {},
   "outputs": [],
   "source": [
    "import pandas as pd\n",
    "import numpy as np\n"
   ]
  },
  {
   "cell_type": "code",
   "execution_count": 3,
   "id": "38236f84-4e5f-4e0a-8fac-3a604bff28cd",
   "metadata": {},
   "outputs": [],
   "source": [
    "df=pd.read_csv('water-quality-check.csv',sep=';')"
   ]
  },
  {
   "cell_type": "code",
   "execution_count": 4,
   "id": "f7c16e22-2381-49b1-a25e-2235687a7e26",
   "metadata": {},
   "outputs": [
    {
     "data": {
      "text/html": [
       "<div>\n",
       "<style scoped>\n",
       "    .dataframe tbody tr th:only-of-type {\n",
       "        vertical-align: middle;\n",
       "    }\n",
       "\n",
       "    .dataframe tbody tr th {\n",
       "        vertical-align: top;\n",
       "    }\n",
       "\n",
       "    .dataframe thead th {\n",
       "        text-align: right;\n",
       "    }\n",
       "</style>\n",
       "<table border=\"1\" class=\"dataframe\">\n",
       "  <thead>\n",
       "    <tr style=\"text-align: right;\">\n",
       "      <th></th>\n",
       "      <th>id</th>\n",
       "      <th>date</th>\n",
       "      <th>NH4</th>\n",
       "      <th>BSK5</th>\n",
       "      <th>Suspended</th>\n",
       "      <th>O2</th>\n",
       "      <th>NO3</th>\n",
       "      <th>NO2</th>\n",
       "      <th>SO4</th>\n",
       "      <th>PO4</th>\n",
       "      <th>CL</th>\n",
       "    </tr>\n",
       "  </thead>\n",
       "  <tbody>\n",
       "    <tr>\n",
       "      <th>0</th>\n",
       "      <td>1</td>\n",
       "      <td>17.02.2000</td>\n",
       "      <td>0.330</td>\n",
       "      <td>2.77</td>\n",
       "      <td>12.0</td>\n",
       "      <td>12.30</td>\n",
       "      <td>9.50</td>\n",
       "      <td>0.057</td>\n",
       "      <td>154.00</td>\n",
       "      <td>0.454</td>\n",
       "      <td>289.50</td>\n",
       "    </tr>\n",
       "    <tr>\n",
       "      <th>1</th>\n",
       "      <td>1</td>\n",
       "      <td>11.05.2000</td>\n",
       "      <td>0.044</td>\n",
       "      <td>3.00</td>\n",
       "      <td>51.6</td>\n",
       "      <td>14.61</td>\n",
       "      <td>17.75</td>\n",
       "      <td>0.034</td>\n",
       "      <td>352.00</td>\n",
       "      <td>0.090</td>\n",
       "      <td>1792.00</td>\n",
       "    </tr>\n",
       "    <tr>\n",
       "      <th>2</th>\n",
       "      <td>1</td>\n",
       "      <td>11.09.2000</td>\n",
       "      <td>0.032</td>\n",
       "      <td>2.10</td>\n",
       "      <td>24.5</td>\n",
       "      <td>9.87</td>\n",
       "      <td>13.80</td>\n",
       "      <td>0.173</td>\n",
       "      <td>416.00</td>\n",
       "      <td>0.200</td>\n",
       "      <td>2509.00</td>\n",
       "    </tr>\n",
       "    <tr>\n",
       "      <th>3</th>\n",
       "      <td>1</td>\n",
       "      <td>13.12.2000</td>\n",
       "      <td>0.170</td>\n",
       "      <td>2.23</td>\n",
       "      <td>35.6</td>\n",
       "      <td>12.40</td>\n",
       "      <td>17.13</td>\n",
       "      <td>0.099</td>\n",
       "      <td>275.20</td>\n",
       "      <td>0.377</td>\n",
       "      <td>1264.00</td>\n",
       "    </tr>\n",
       "    <tr>\n",
       "      <th>4</th>\n",
       "      <td>1</td>\n",
       "      <td>02.03.2001</td>\n",
       "      <td>0.000</td>\n",
       "      <td>3.03</td>\n",
       "      <td>48.8</td>\n",
       "      <td>14.69</td>\n",
       "      <td>10.00</td>\n",
       "      <td>0.065</td>\n",
       "      <td>281.60</td>\n",
       "      <td>0.134</td>\n",
       "      <td>1462.00</td>\n",
       "    </tr>\n",
       "    <tr>\n",
       "      <th>...</th>\n",
       "      <td>...</td>\n",
       "      <td>...</td>\n",
       "      <td>...</td>\n",
       "      <td>...</td>\n",
       "      <td>...</td>\n",
       "      <td>...</td>\n",
       "      <td>...</td>\n",
       "      <td>...</td>\n",
       "      <td>...</td>\n",
       "      <td>...</td>\n",
       "      <td>...</td>\n",
       "    </tr>\n",
       "    <tr>\n",
       "      <th>2855</th>\n",
       "      <td>22</td>\n",
       "      <td>15.09.2020</td>\n",
       "      <td>0.000</td>\n",
       "      <td>4.70</td>\n",
       "      <td>0.0</td>\n",
       "      <td>11.33</td>\n",
       "      <td>0.00</td>\n",
       "      <td>0.013</td>\n",
       "      <td>160.64</td>\n",
       "      <td>1.214</td>\n",
       "      <td>73.37</td>\n",
       "    </tr>\n",
       "    <tr>\n",
       "      <th>2856</th>\n",
       "      <td>22</td>\n",
       "      <td>06.10.2020</td>\n",
       "      <td>0.046</td>\n",
       "      <td>2.69</td>\n",
       "      <td>3.6</td>\n",
       "      <td>8.28</td>\n",
       "      <td>3.80</td>\n",
       "      <td>0.038</td>\n",
       "      <td>160.00</td>\n",
       "      <td>0.726</td>\n",
       "      <td>77.85</td>\n",
       "    </tr>\n",
       "    <tr>\n",
       "      <th>2857</th>\n",
       "      <td>22</td>\n",
       "      <td>27.10.2020</td>\n",
       "      <td>0.000</td>\n",
       "      <td>1.52</td>\n",
       "      <td>0.5</td>\n",
       "      <td>11.26</td>\n",
       "      <td>0.56</td>\n",
       "      <td>0.031</td>\n",
       "      <td>147.20</td>\n",
       "      <td>0.634</td>\n",
       "      <td>71.95</td>\n",
       "    </tr>\n",
       "    <tr>\n",
       "      <th>2858</th>\n",
       "      <td>22</td>\n",
       "      <td>03.12.2020</td>\n",
       "      <td>0.034</td>\n",
       "      <td>0.29</td>\n",
       "      <td>0.8</td>\n",
       "      <td>11.09</td>\n",
       "      <td>2.58</td>\n",
       "      <td>0.042</td>\n",
       "      <td>209.92</td>\n",
       "      <td>0.484</td>\n",
       "      <td>61.17</td>\n",
       "    </tr>\n",
       "    <tr>\n",
       "      <th>2859</th>\n",
       "      <td>22</td>\n",
       "      <td>12.01.2021</td>\n",
       "      <td>0.000</td>\n",
       "      <td>2.10</td>\n",
       "      <td>0.0</td>\n",
       "      <td>14.31</td>\n",
       "      <td>3.94</td>\n",
       "      <td>0.034</td>\n",
       "      <td>121.60</td>\n",
       "      <td>0.424</td>\n",
       "      <td>63.49</td>\n",
       "    </tr>\n",
       "  </tbody>\n",
       "</table>\n",
       "<p>2860 rows × 11 columns</p>\n",
       "</div>"
      ],
      "text/plain": [
       "      id        date    NH4  BSK5  Suspended     O2    NO3    NO2     SO4  \\\n",
       "0      1  17.02.2000  0.330  2.77       12.0  12.30   9.50  0.057  154.00   \n",
       "1      1  11.05.2000  0.044  3.00       51.6  14.61  17.75  0.034  352.00   \n",
       "2      1  11.09.2000  0.032  2.10       24.5   9.87  13.80  0.173  416.00   \n",
       "3      1  13.12.2000  0.170  2.23       35.6  12.40  17.13  0.099  275.20   \n",
       "4      1  02.03.2001  0.000  3.03       48.8  14.69  10.00  0.065  281.60   \n",
       "...   ..         ...    ...   ...        ...    ...    ...    ...     ...   \n",
       "2855  22  15.09.2020  0.000  4.70        0.0  11.33   0.00  0.013  160.64   \n",
       "2856  22  06.10.2020  0.046  2.69        3.6   8.28   3.80  0.038  160.00   \n",
       "2857  22  27.10.2020  0.000  1.52        0.5  11.26   0.56  0.031  147.20   \n",
       "2858  22  03.12.2020  0.034  0.29        0.8  11.09   2.58  0.042  209.92   \n",
       "2859  22  12.01.2021  0.000  2.10        0.0  14.31   3.94  0.034  121.60   \n",
       "\n",
       "        PO4       CL  \n",
       "0     0.454   289.50  \n",
       "1     0.090  1792.00  \n",
       "2     0.200  2509.00  \n",
       "3     0.377  1264.00  \n",
       "4     0.134  1462.00  \n",
       "...     ...      ...  \n",
       "2855  1.214    73.37  \n",
       "2856  0.726    77.85  \n",
       "2857  0.634    71.95  \n",
       "2858  0.484    61.17  \n",
       "2859  0.424    63.49  \n",
       "\n",
       "[2860 rows x 11 columns]"
      ]
     },
     "execution_count": 4,
     "metadata": {},
     "output_type": "execute_result"
    }
   ],
   "source": [
    "df.head(-1)"
   ]
  },
  {
   "cell_type": "code",
   "execution_count": 5,
   "id": "67b2a4eb-15b8-4561-9309-2f353ab8d2d8",
   "metadata": {},
   "outputs": [
    {
     "name": "stdout",
     "output_type": "stream",
     "text": [
      "<class 'pandas.core.frame.DataFrame'>\n",
      "RangeIndex: 2861 entries, 0 to 2860\n",
      "Data columns (total 11 columns):\n",
      " #   Column     Non-Null Count  Dtype  \n",
      "---  ------     --------------  -----  \n",
      " 0   id         2861 non-null   int64  \n",
      " 1   date       2861 non-null   object \n",
      " 2   NH4        2858 non-null   float64\n",
      " 3   BSK5       2860 non-null   float64\n",
      " 4   Suspended  2845 non-null   float64\n",
      " 5   O2         2858 non-null   float64\n",
      " 6   NO3        2860 non-null   float64\n",
      " 7   NO2        2858 non-null   float64\n",
      " 8   SO4        2812 non-null   float64\n",
      " 9   PO4        2833 non-null   float64\n",
      " 10  CL         2812 non-null   float64\n",
      "dtypes: float64(9), int64(1), object(1)\n",
      "memory usage: 246.0+ KB\n"
     ]
    }
   ],
   "source": [
    "df.info()"
   ]
  },
  {
   "cell_type": "code",
   "execution_count": 6,
   "id": "eda1faf6-9eee-4444-8374-7a81d3d6dc68",
   "metadata": {},
   "outputs": [
    {
     "data": {
      "text/plain": [
       "(2861, 11)"
      ]
     },
     "execution_count": 6,
     "metadata": {},
     "output_type": "execute_result"
    }
   ],
   "source": [
    "df.shape"
   ]
  },
  {
   "cell_type": "markdown",
   "id": "6b7bf8d0-b31d-4366-9fa9-708199695375",
   "metadata": {},
   "source": [
    "# Preprocessing"
   ]
  },
  {
   "cell_type": "code",
   "execution_count": 7,
   "id": "b392bdd1-c4f6-4d28-a16a-a7c47328054d",
   "metadata": {},
   "outputs": [],
   "source": [
    "# We can see the Dtype of date is object : we need to convert it into date format\n",
    "# We need to remove null values/Fill them using methods like imputing\n"
   ]
  },
  {
   "cell_type": "code",
   "execution_count": 9,
   "id": "95802444-9ad7-4802-929f-9fc0ccc8acbe",
   "metadata": {},
   "outputs": [
    {
     "data": {
      "text/html": [
       "<div>\n",
       "<style scoped>\n",
       "    .dataframe tbody tr th:only-of-type {\n",
       "        vertical-align: middle;\n",
       "    }\n",
       "\n",
       "    .dataframe tbody tr th {\n",
       "        vertical-align: top;\n",
       "    }\n",
       "\n",
       "    .dataframe thead th {\n",
       "        text-align: right;\n",
       "    }\n",
       "</style>\n",
       "<table border=\"1\" class=\"dataframe\">\n",
       "  <thead>\n",
       "    <tr style=\"text-align: right;\">\n",
       "      <th></th>\n",
       "      <th>count</th>\n",
       "      <th>mean</th>\n",
       "      <th>std</th>\n",
       "      <th>min</th>\n",
       "      <th>25%</th>\n",
       "      <th>50%</th>\n",
       "      <th>75%</th>\n",
       "      <th>max</th>\n",
       "    </tr>\n",
       "  </thead>\n",
       "  <tbody>\n",
       "    <tr>\n",
       "      <th>id</th>\n",
       "      <td>2861.0</td>\n",
       "      <td>12.397064</td>\n",
       "      <td>6.084226</td>\n",
       "      <td>1.00</td>\n",
       "      <td>8.0000</td>\n",
       "      <td>14.000</td>\n",
       "      <td>16.00000</td>\n",
       "      <td>22.000</td>\n",
       "    </tr>\n",
       "    <tr>\n",
       "      <th>NH4</th>\n",
       "      <td>2858.0</td>\n",
       "      <td>0.758734</td>\n",
       "      <td>2.486247</td>\n",
       "      <td>0.00</td>\n",
       "      <td>0.0800</td>\n",
       "      <td>0.220</td>\n",
       "      <td>0.50000</td>\n",
       "      <td>39.427</td>\n",
       "    </tr>\n",
       "    <tr>\n",
       "      <th>BSK5</th>\n",
       "      <td>2860.0</td>\n",
       "      <td>4.316182</td>\n",
       "      <td>2.973997</td>\n",
       "      <td>0.00</td>\n",
       "      <td>2.1600</td>\n",
       "      <td>3.800</td>\n",
       "      <td>5.80000</td>\n",
       "      <td>50.900</td>\n",
       "    </tr>\n",
       "    <tr>\n",
       "      <th>Suspended</th>\n",
       "      <td>2845.0</td>\n",
       "      <td>12.931905</td>\n",
       "      <td>16.543097</td>\n",
       "      <td>0.00</td>\n",
       "      <td>6.0000</td>\n",
       "      <td>10.000</td>\n",
       "      <td>15.00000</td>\n",
       "      <td>595.000</td>\n",
       "    </tr>\n",
       "    <tr>\n",
       "      <th>O2</th>\n",
       "      <td>2858.0</td>\n",
       "      <td>9.508902</td>\n",
       "      <td>4.428260</td>\n",
       "      <td>0.00</td>\n",
       "      <td>7.0925</td>\n",
       "      <td>8.995</td>\n",
       "      <td>11.52000</td>\n",
       "      <td>90.000</td>\n",
       "    </tr>\n",
       "    <tr>\n",
       "      <th>NO3</th>\n",
       "      <td>2860.0</td>\n",
       "      <td>4.316846</td>\n",
       "      <td>6.881188</td>\n",
       "      <td>0.00</td>\n",
       "      <td>1.3900</td>\n",
       "      <td>2.800</td>\n",
       "      <td>5.58250</td>\n",
       "      <td>133.400</td>\n",
       "    </tr>\n",
       "    <tr>\n",
       "      <th>NO2</th>\n",
       "      <td>2858.0</td>\n",
       "      <td>0.246128</td>\n",
       "      <td>2.182777</td>\n",
       "      <td>0.00</td>\n",
       "      <td>0.0300</td>\n",
       "      <td>0.059</td>\n",
       "      <td>0.12575</td>\n",
       "      <td>109.000</td>\n",
       "    </tr>\n",
       "    <tr>\n",
       "      <th>SO4</th>\n",
       "      <td>2812.0</td>\n",
       "      <td>59.362313</td>\n",
       "      <td>96.582641</td>\n",
       "      <td>0.00</td>\n",
       "      <td>27.0525</td>\n",
       "      <td>37.800</td>\n",
       "      <td>64.64000</td>\n",
       "      <td>3573.400</td>\n",
       "    </tr>\n",
       "    <tr>\n",
       "      <th>PO4</th>\n",
       "      <td>2833.0</td>\n",
       "      <td>0.418626</td>\n",
       "      <td>0.771326</td>\n",
       "      <td>0.00</td>\n",
       "      <td>0.1300</td>\n",
       "      <td>0.270</td>\n",
       "      <td>0.47000</td>\n",
       "      <td>13.879</td>\n",
       "    </tr>\n",
       "    <tr>\n",
       "      <th>CL</th>\n",
       "      <td>2812.0</td>\n",
       "      <td>93.731991</td>\n",
       "      <td>394.512184</td>\n",
       "      <td>0.02</td>\n",
       "      <td>26.8000</td>\n",
       "      <td>33.900</td>\n",
       "      <td>45.60750</td>\n",
       "      <td>5615.280</td>\n",
       "    </tr>\n",
       "  </tbody>\n",
       "</table>\n",
       "</div>"
      ],
      "text/plain": [
       "            count       mean         std   min      25%     50%       75%  \\\n",
       "id         2861.0  12.397064    6.084226  1.00   8.0000  14.000  16.00000   \n",
       "NH4        2858.0   0.758734    2.486247  0.00   0.0800   0.220   0.50000   \n",
       "BSK5       2860.0   4.316182    2.973997  0.00   2.1600   3.800   5.80000   \n",
       "Suspended  2845.0  12.931905   16.543097  0.00   6.0000  10.000  15.00000   \n",
       "O2         2858.0   9.508902    4.428260  0.00   7.0925   8.995  11.52000   \n",
       "NO3        2860.0   4.316846    6.881188  0.00   1.3900   2.800   5.58250   \n",
       "NO2        2858.0   0.246128    2.182777  0.00   0.0300   0.059   0.12575   \n",
       "SO4        2812.0  59.362313   96.582641  0.00  27.0525  37.800  64.64000   \n",
       "PO4        2833.0   0.418626    0.771326  0.00   0.1300   0.270   0.47000   \n",
       "CL         2812.0  93.731991  394.512184  0.02  26.8000  33.900  45.60750   \n",
       "\n",
       "                max  \n",
       "id           22.000  \n",
       "NH4          39.427  \n",
       "BSK5         50.900  \n",
       "Suspended   595.000  \n",
       "O2           90.000  \n",
       "NO3         133.400  \n",
       "NO2         109.000  \n",
       "SO4        3573.400  \n",
       "PO4          13.879  \n",
       "CL         5615.280  "
      ]
     },
     "execution_count": 9,
     "metadata": {},
     "output_type": "execute_result"
    }
   ],
   "source": [
    "df.describe().T"
   ]
  },
  {
   "cell_type": "code",
   "execution_count": 10,
   "id": "a0e3fb47-ce85-4953-b5bf-df362bd2d06f",
   "metadata": {},
   "outputs": [
    {
     "data": {
      "text/html": [
       "<div>\n",
       "<style scoped>\n",
       "    .dataframe tbody tr th:only-of-type {\n",
       "        vertical-align: middle;\n",
       "    }\n",
       "\n",
       "    .dataframe tbody tr th {\n",
       "        vertical-align: top;\n",
       "    }\n",
       "\n",
       "    .dataframe thead th {\n",
       "        text-align: right;\n",
       "    }\n",
       "</style>\n",
       "<table border=\"1\" class=\"dataframe\">\n",
       "  <thead>\n",
       "    <tr style=\"text-align: right;\">\n",
       "      <th></th>\n",
       "      <th>id</th>\n",
       "      <th>date</th>\n",
       "      <th>NH4</th>\n",
       "      <th>BSK5</th>\n",
       "      <th>Suspended</th>\n",
       "      <th>O2</th>\n",
       "      <th>NO3</th>\n",
       "      <th>NO2</th>\n",
       "      <th>SO4</th>\n",
       "      <th>PO4</th>\n",
       "      <th>CL</th>\n",
       "    </tr>\n",
       "  </thead>\n",
       "  <tbody>\n",
       "    <tr>\n",
       "      <th>0</th>\n",
       "      <td>1</td>\n",
       "      <td>2000-02-17</td>\n",
       "      <td>0.330</td>\n",
       "      <td>2.77</td>\n",
       "      <td>12.0</td>\n",
       "      <td>12.30</td>\n",
       "      <td>9.50</td>\n",
       "      <td>0.057</td>\n",
       "      <td>154.00</td>\n",
       "      <td>0.454</td>\n",
       "      <td>289.50</td>\n",
       "    </tr>\n",
       "    <tr>\n",
       "      <th>1</th>\n",
       "      <td>1</td>\n",
       "      <td>2000-05-11</td>\n",
       "      <td>0.044</td>\n",
       "      <td>3.00</td>\n",
       "      <td>51.6</td>\n",
       "      <td>14.61</td>\n",
       "      <td>17.75</td>\n",
       "      <td>0.034</td>\n",
       "      <td>352.00</td>\n",
       "      <td>0.090</td>\n",
       "      <td>1792.00</td>\n",
       "    </tr>\n",
       "    <tr>\n",
       "      <th>2</th>\n",
       "      <td>1</td>\n",
       "      <td>2000-09-11</td>\n",
       "      <td>0.032</td>\n",
       "      <td>2.10</td>\n",
       "      <td>24.5</td>\n",
       "      <td>9.87</td>\n",
       "      <td>13.80</td>\n",
       "      <td>0.173</td>\n",
       "      <td>416.00</td>\n",
       "      <td>0.200</td>\n",
       "      <td>2509.00</td>\n",
       "    </tr>\n",
       "    <tr>\n",
       "      <th>3</th>\n",
       "      <td>1</td>\n",
       "      <td>2000-12-13</td>\n",
       "      <td>0.170</td>\n",
       "      <td>2.23</td>\n",
       "      <td>35.6</td>\n",
       "      <td>12.40</td>\n",
       "      <td>17.13</td>\n",
       "      <td>0.099</td>\n",
       "      <td>275.20</td>\n",
       "      <td>0.377</td>\n",
       "      <td>1264.00</td>\n",
       "    </tr>\n",
       "    <tr>\n",
       "      <th>4</th>\n",
       "      <td>1</td>\n",
       "      <td>2001-03-02</td>\n",
       "      <td>0.000</td>\n",
       "      <td>3.03</td>\n",
       "      <td>48.8</td>\n",
       "      <td>14.69</td>\n",
       "      <td>10.00</td>\n",
       "      <td>0.065</td>\n",
       "      <td>281.60</td>\n",
       "      <td>0.134</td>\n",
       "      <td>1462.00</td>\n",
       "    </tr>\n",
       "    <tr>\n",
       "      <th>...</th>\n",
       "      <td>...</td>\n",
       "      <td>...</td>\n",
       "      <td>...</td>\n",
       "      <td>...</td>\n",
       "      <td>...</td>\n",
       "      <td>...</td>\n",
       "      <td>...</td>\n",
       "      <td>...</td>\n",
       "      <td>...</td>\n",
       "      <td>...</td>\n",
       "      <td>...</td>\n",
       "    </tr>\n",
       "    <tr>\n",
       "      <th>2856</th>\n",
       "      <td>22</td>\n",
       "      <td>2020-10-06</td>\n",
       "      <td>0.046</td>\n",
       "      <td>2.69</td>\n",
       "      <td>3.6</td>\n",
       "      <td>8.28</td>\n",
       "      <td>3.80</td>\n",
       "      <td>0.038</td>\n",
       "      <td>160.00</td>\n",
       "      <td>0.726</td>\n",
       "      <td>77.85</td>\n",
       "    </tr>\n",
       "    <tr>\n",
       "      <th>2857</th>\n",
       "      <td>22</td>\n",
       "      <td>2020-10-27</td>\n",
       "      <td>0.000</td>\n",
       "      <td>1.52</td>\n",
       "      <td>0.5</td>\n",
       "      <td>11.26</td>\n",
       "      <td>0.56</td>\n",
       "      <td>0.031</td>\n",
       "      <td>147.20</td>\n",
       "      <td>0.634</td>\n",
       "      <td>71.95</td>\n",
       "    </tr>\n",
       "    <tr>\n",
       "      <th>2858</th>\n",
       "      <td>22</td>\n",
       "      <td>2020-12-03</td>\n",
       "      <td>0.034</td>\n",
       "      <td>0.29</td>\n",
       "      <td>0.8</td>\n",
       "      <td>11.09</td>\n",
       "      <td>2.58</td>\n",
       "      <td>0.042</td>\n",
       "      <td>209.92</td>\n",
       "      <td>0.484</td>\n",
       "      <td>61.17</td>\n",
       "    </tr>\n",
       "    <tr>\n",
       "      <th>2859</th>\n",
       "      <td>22</td>\n",
       "      <td>2021-01-12</td>\n",
       "      <td>0.000</td>\n",
       "      <td>2.10</td>\n",
       "      <td>0.0</td>\n",
       "      <td>14.31</td>\n",
       "      <td>3.94</td>\n",
       "      <td>0.034</td>\n",
       "      <td>121.60</td>\n",
       "      <td>0.424</td>\n",
       "      <td>63.49</td>\n",
       "    </tr>\n",
       "    <tr>\n",
       "      <th>2860</th>\n",
       "      <td>22</td>\n",
       "      <td>2021-02-10</td>\n",
       "      <td>0.000</td>\n",
       "      <td>1.78</td>\n",
       "      <td>0.0</td>\n",
       "      <td>14.30</td>\n",
       "      <td>6.30</td>\n",
       "      <td>0.033</td>\n",
       "      <td>134.40</td>\n",
       "      <td>0.582</td>\n",
       "      <td>66.31</td>\n",
       "    </tr>\n",
       "  </tbody>\n",
       "</table>\n",
       "<p>2861 rows × 11 columns</p>\n",
       "</div>"
      ],
      "text/plain": [
       "      id       date    NH4  BSK5  Suspended     O2    NO3    NO2     SO4  \\\n",
       "0      1 2000-02-17  0.330  2.77       12.0  12.30   9.50  0.057  154.00   \n",
       "1      1 2000-05-11  0.044  3.00       51.6  14.61  17.75  0.034  352.00   \n",
       "2      1 2000-09-11  0.032  2.10       24.5   9.87  13.80  0.173  416.00   \n",
       "3      1 2000-12-13  0.170  2.23       35.6  12.40  17.13  0.099  275.20   \n",
       "4      1 2001-03-02  0.000  3.03       48.8  14.69  10.00  0.065  281.60   \n",
       "...   ..        ...    ...   ...        ...    ...    ...    ...     ...   \n",
       "2856  22 2020-10-06  0.046  2.69        3.6   8.28   3.80  0.038  160.00   \n",
       "2857  22 2020-10-27  0.000  1.52        0.5  11.26   0.56  0.031  147.20   \n",
       "2858  22 2020-12-03  0.034  0.29        0.8  11.09   2.58  0.042  209.92   \n",
       "2859  22 2021-01-12  0.000  2.10        0.0  14.31   3.94  0.034  121.60   \n",
       "2860  22 2021-02-10  0.000  1.78        0.0  14.30   6.30  0.033  134.40   \n",
       "\n",
       "        PO4       CL  \n",
       "0     0.454   289.50  \n",
       "1     0.090  1792.00  \n",
       "2     0.200  2509.00  \n",
       "3     0.377  1264.00  \n",
       "4     0.134  1462.00  \n",
       "...     ...      ...  \n",
       "2856  0.726    77.85  \n",
       "2857  0.634    71.95  \n",
       "2858  0.484    61.17  \n",
       "2859  0.424    63.49  \n",
       "2860  0.582    66.31  \n",
       "\n",
       "[2861 rows x 11 columns]"
      ]
     },
     "execution_count": 10,
     "metadata": {},
     "output_type": "execute_result"
    }
   ],
   "source": [
    "# date is in object -> date format\n",
    "df['date'] = pd.to_datetime(df['date'], format='%d.%m.%Y')\n",
    "df"
   ]
  },
  {
   "cell_type": "code",
   "execution_count": 11,
   "id": "8ac691bc-8954-4ed0-bedf-285db4a4ac08",
   "metadata": {},
   "outputs": [
    {
     "data": {
      "text/html": [
       "<div>\n",
       "<style scoped>\n",
       "    .dataframe tbody tr th:only-of-type {\n",
       "        vertical-align: middle;\n",
       "    }\n",
       "\n",
       "    .dataframe tbody tr th {\n",
       "        vertical-align: top;\n",
       "    }\n",
       "\n",
       "    .dataframe thead th {\n",
       "        text-align: right;\n",
       "    }\n",
       "</style>\n",
       "<table border=\"1\" class=\"dataframe\">\n",
       "  <thead>\n",
       "    <tr style=\"text-align: right;\">\n",
       "      <th></th>\n",
       "      <th>id</th>\n",
       "      <th>date</th>\n",
       "      <th>NH4</th>\n",
       "      <th>BSK5</th>\n",
       "      <th>Suspended</th>\n",
       "      <th>O2</th>\n",
       "      <th>NO3</th>\n",
       "      <th>NO2</th>\n",
       "      <th>SO4</th>\n",
       "      <th>PO4</th>\n",
       "      <th>CL</th>\n",
       "    </tr>\n",
       "  </thead>\n",
       "  <tbody>\n",
       "    <tr>\n",
       "      <th>0</th>\n",
       "      <td>1</td>\n",
       "      <td>2000-02-17</td>\n",
       "      <td>0.330</td>\n",
       "      <td>2.77</td>\n",
       "      <td>12.0</td>\n",
       "      <td>12.30</td>\n",
       "      <td>9.50</td>\n",
       "      <td>0.057</td>\n",
       "      <td>154.0</td>\n",
       "      <td>0.454</td>\n",
       "      <td>289.5</td>\n",
       "    </tr>\n",
       "    <tr>\n",
       "      <th>1</th>\n",
       "      <td>1</td>\n",
       "      <td>2000-05-11</td>\n",
       "      <td>0.044</td>\n",
       "      <td>3.00</td>\n",
       "      <td>51.6</td>\n",
       "      <td>14.61</td>\n",
       "      <td>17.75</td>\n",
       "      <td>0.034</td>\n",
       "      <td>352.0</td>\n",
       "      <td>0.090</td>\n",
       "      <td>1792.0</td>\n",
       "    </tr>\n",
       "    <tr>\n",
       "      <th>2</th>\n",
       "      <td>1</td>\n",
       "      <td>2000-09-11</td>\n",
       "      <td>0.032</td>\n",
       "      <td>2.10</td>\n",
       "      <td>24.5</td>\n",
       "      <td>9.87</td>\n",
       "      <td>13.80</td>\n",
       "      <td>0.173</td>\n",
       "      <td>416.0</td>\n",
       "      <td>0.200</td>\n",
       "      <td>2509.0</td>\n",
       "    </tr>\n",
       "    <tr>\n",
       "      <th>3</th>\n",
       "      <td>1</td>\n",
       "      <td>2000-12-13</td>\n",
       "      <td>0.170</td>\n",
       "      <td>2.23</td>\n",
       "      <td>35.6</td>\n",
       "      <td>12.40</td>\n",
       "      <td>17.13</td>\n",
       "      <td>0.099</td>\n",
       "      <td>275.2</td>\n",
       "      <td>0.377</td>\n",
       "      <td>1264.0</td>\n",
       "    </tr>\n",
       "    <tr>\n",
       "      <th>4</th>\n",
       "      <td>1</td>\n",
       "      <td>2001-03-02</td>\n",
       "      <td>0.000</td>\n",
       "      <td>3.03</td>\n",
       "      <td>48.8</td>\n",
       "      <td>14.69</td>\n",
       "      <td>10.00</td>\n",
       "      <td>0.065</td>\n",
       "      <td>281.6</td>\n",
       "      <td>0.134</td>\n",
       "      <td>1462.0</td>\n",
       "    </tr>\n",
       "  </tbody>\n",
       "</table>\n",
       "</div>"
      ],
      "text/plain": [
       "   id       date    NH4  BSK5  Suspended     O2    NO3    NO2    SO4    PO4  \\\n",
       "0   1 2000-02-17  0.330  2.77       12.0  12.30   9.50  0.057  154.0  0.454   \n",
       "1   1 2000-05-11  0.044  3.00       51.6  14.61  17.75  0.034  352.0  0.090   \n",
       "2   1 2000-09-11  0.032  2.10       24.5   9.87  13.80  0.173  416.0  0.200   \n",
       "3   1 2000-12-13  0.170  2.23       35.6  12.40  17.13  0.099  275.2  0.377   \n",
       "4   1 2001-03-02  0.000  3.03       48.8  14.69  10.00  0.065  281.6  0.134   \n",
       "\n",
       "       CL  \n",
       "0   289.5  \n",
       "1  1792.0  \n",
       "2  2509.0  \n",
       "3  1264.0  \n",
       "4  1462.0  "
      ]
     },
     "execution_count": 11,
     "metadata": {},
     "output_type": "execute_result"
    }
   ],
   "source": [
    "df = df.sort_values(by=['id', 'date'])\n",
    "df.head()"
   ]
  },
  {
   "cell_type": "code",
   "execution_count": 12,
   "id": "a179666f-fe1c-4197-8870-0f1dd8214968",
   "metadata": {},
   "outputs": [],
   "source": [
    "df['year'] = df['date'].dt.year\n",
    "df['month'] = df['date'].dt.month"
   ]
  },
  {
   "cell_type": "code",
   "execution_count": 13,
   "id": "6af9054a-85b6-46cd-a787-24378300a1bd",
   "metadata": {},
   "outputs": [
    {
     "data": {
      "text/plain": [
       "Index(['id', 'date', 'NH4', 'BSK5', 'Suspended', 'O2', 'NO3', 'NO2', 'SO4',\n",
       "       'PO4', 'CL', 'year', 'month'],\n",
       "      dtype='object')"
      ]
     },
     "execution_count": 13,
     "metadata": {},
     "output_type": "execute_result"
    }
   ],
   "source": [
    "df.columns"
   ]
  },
  {
   "cell_type": "code",
   "execution_count": 14,
   "id": "1b6033a0-5a56-44e3-a9b1-249ee4a4667f",
   "metadata": {},
   "outputs": [],
   "source": [
    "pollutants = ['O2', 'NO3', 'NO2', 'SO4',\n",
    "       'PO4', 'CL']"
   ]
  },
  {
   "cell_type": "code",
   "execution_count": 15,
   "id": "3d6975a7-cc91-4328-a4fa-e4d7839b30e7",
   "metadata": {},
   "outputs": [],
   "source": [
    "df.drop(columns=\"date\",inplace=True)"
   ]
  },
  {
   "cell_type": "code",
   "execution_count": 7,
   "id": "c0d54534-71a9-48d6-a282-44de2f96a3f4",
   "metadata": {},
   "outputs": [
    {
     "data": {
      "text/plain": [
       "id            0\n",
       "date          0\n",
       "NH4           3\n",
       "BSK5          1\n",
       "Suspended    16\n",
       "O2            3\n",
       "NO3           1\n",
       "NO2           3\n",
       "SO4          49\n",
       "PO4          28\n",
       "CL           49\n",
       "dtype: int64"
      ]
     },
     "execution_count": 7,
     "metadata": {},
     "output_type": "execute_result"
    }
   ],
   "source": [
    "df.isnull().sum()"
   ]
  },
  {
   "cell_type": "code",
   "execution_count": 8,
   "id": "16882f1e-6f85-4e4e-a9b2-5a7ec6768ec0",
   "metadata": {},
   "outputs": [],
   "source": [
    "missing_counts = df.isna().sum()\n",
    "\n",
    "# Step 2: Drop rows where missing values are very few (say ≤2)\n",
    "low_na_cols = missing_counts[missing_counts <= 3].index\n",
    "df.dropna(subset=low_na_cols, inplace=True)\n"
   ]
  },
  {
   "cell_type": "code",
   "execution_count": 9,
   "id": "fe2641ce-3776-41b3-97c7-15d25905ff0e",
   "metadata": {},
   "outputs": [
    {
     "data": {
      "text/plain": [
       "id            0\n",
       "date          0\n",
       "NH4           0\n",
       "BSK5          0\n",
       "Suspended    15\n",
       "O2            0\n",
       "NO3           0\n",
       "NO2           0\n",
       "SO4          48\n",
       "PO4          27\n",
       "CL           48\n",
       "dtype: int64"
      ]
     },
     "execution_count": 9,
     "metadata": {},
     "output_type": "execute_result"
    }
   ],
   "source": [
    "df.isnull().sum()"
   ]
  },
  {
   "cell_type": "code",
   "execution_count": 13,
   "id": "80f931e5-8104-445c-816f-e8794a043cce",
   "metadata": {},
   "outputs": [],
   "source": [
    "rem_cols= missing_counts[missing_counts >= 15].index"
   ]
  },
  {
   "cell_type": "code",
   "execution_count": 14,
   "id": "162e52fe-c9bf-469e-9314-6a182f6e565a",
   "metadata": {},
   "outputs": [
    {
     "data": {
      "text/plain": [
       "Index(['Suspended', 'SO4', 'PO4', 'CL'], dtype='object')"
      ]
     },
     "execution_count": 14,
     "metadata": {},
     "output_type": "execute_result"
    }
   ],
   "source": [
    "rem_cols"
   ]
  },
  {
   "cell_type": "code",
   "execution_count": 19,
   "id": "d0d15515-1b80-4eed-9590-8982f6e250be",
   "metadata": {},
   "outputs": [
    {
     "data": {
      "text/plain": [
       "<Axes: title={'center': 'Suspended Distribution'}, ylabel='Frequency'>"
      ]
     },
     "execution_count": 19,
     "metadata": {},
     "output_type": "execute_result"
    },
    {
     "data": {
      "image/png": "[encoded data removed]",
      "text/plain": [
       "<Figure size 640x480 with 1 Axes>"
      ]
     },
     "metadata": {},
     "output_type": "display_data"
    }
   ],
   "source": [
    "df['Suspended'].describe()\n",
    "df['Suspended'].plot(kind='hist', bins=10, title='Suspended Distribution')\n"
   ]
  },
  {
   "cell_type": "code",
   "execution_count": 20,
   "id": "9e7fa386-7cb3-48f1-8c29-36cb56ff9096",
   "metadata": {},
   "outputs": [
    {
     "data": {
      "text/plain": [
       "<Axes: title={'center': 'SO4 Distribution'}, ylabel='Frequency'>"
      ]
     },
     "execution_count": 20,
     "metadata": {},
     "output_type": "execute_result"
    },
    {
     "data": {
      "image/png": "[encoded data removed]",
      "text/plain": [
       "<Figure size 640x480 with 1 Axes>"
      ]
     },
     "metadata": {},
     "output_type": "display_data"
    }
   ],
   "source": [
    "df['SO4'].describe()\n",
    "df['SO4'].plot(kind='hist', bins=10, title='SO4 Distribution')\n"
   ]
  },
  {
   "cell_type": "code",
   "execution_count": 21,
   "id": "1ebe2521-8282-4ac7-83e7-cdaa2dad57a0",
   "metadata": {},
   "outputs": [
    {
     "data": {
      "text/plain": [
       "<Axes: title={'center': 'PO4 Distribution'}, ylabel='Frequency'>"
      ]
     },
     "execution_count": 21,
     "metadata": {},
     "output_type": "execute_result"
    },
    {
     "data": {
      "image/png": "[encoded data removed]",
      "text/plain": [
       "<Figure size 640x480 with 1 Axes>"
      ]
     },
     "metadata": {},
     "output_type": "display_data"
    }
   ],
   "source": [
    "df['PO4'].describe()\n",
    "df['PO4'].plot(kind='hist', bins=10, title='PO4 Distribution')\n"
   ]
  },
  {
   "cell_type": "code",
   "execution_count": 22,
   "id": "088ec1c2-a082-4419-9156-94fb90ddc7a6",
   "metadata": {},
   "outputs": [
    {
     "data": {
      "text/plain": [
       "<Axes: title={'center': 'CL Distribution'}, ylabel='Frequency'>"
      ]
     },
     "execution_count": 22,
     "metadata": {},
     "output_type": "execute_result"
    },
    {
     "data": {
      "image/png": "[encoded data removed]",
      "text/plain": [
       "<Figure size 640x480 with 1 Axes>"
      ]
     },
     "metadata": {},
     "output_type": "display_data"
    }
   ],
   "source": [
    "df['CL'].describe()\n",
    "df['CL'].plot(kind='hist', bins=10, title='CL Distribution')\n"
   ]
  },
  {
   "cell_type": "code",
   "execution_count": 23,
   "id": "53ad3e09-6f86-4615-9bd7-4dd21e864f39",
   "metadata": {},
   "outputs": [],
   "source": [
    "from sklearn.impute import SimpleImputer\n",
    "\n",
    "# Median imputer for skewed columns\n",
    "median_cols = ['Suspended', 'SO4', 'PO4','CL']\n",
    "median_imputer = SimpleImputer(strategy='median')\n",
    "df[median_cols] = median_imputer.fit_transform(df[median_cols])"
   ]
  },
  {
   "cell_type": "code",
   "execution_count": 24,
   "id": "3d32fc05-2e52-4f26-970c-33d653df02fb",
   "metadata": {},
   "outputs": [
    {
     "data": {
      "text/plain": [
       "id           0\n",
       "date         0\n",
       "NH4          0\n",
       "BSK5         0\n",
       "Suspended    0\n",
       "O2           0\n",
       "NO3          0\n",
       "NO2          0\n",
       "SO4          0\n",
       "PO4          0\n",
       "CL           0\n",
       "dtype: int64"
      ]
     },
     "execution_count": 24,
     "metadata": {},
     "output_type": "execute_result"
    }
   ],
   "source": [
    "df.isnull().sum()"
   ]
  },
  {
   "cell_type": "code",
   "execution_count": null,
   "id": "68ae457f-41b1-4159-9c7f-fa87597b0bb2",
   "metadata": {},
   "outputs": [],
   "source": []
  }
 ],
 "metadata": {
  "kernelspec": {
   "display_name": "Python 3 (ipykernel)",
   "language": "python",
   "name": "python3"
  },
  "language_info": {
   "codemirror_mode": {
    "name": "ipython",
    "version": 3
   },
   "file_extension": ".py",
   "mimetype": "text/x-python",
   "name": "python",
   "nbconvert_exporter": "python",
   "pygments_lexer": "ipython3",
   "version": "3.12.4"
  }
 },
 "nbformat": 4,
 "nbformat_minor": 5
}
